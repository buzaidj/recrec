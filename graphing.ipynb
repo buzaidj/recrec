{
 "cells": [
  {
   "cell_type": "code",
   "execution_count": 3,
   "metadata": {},
   "outputs": [],
   "source": [
    "from sklearn.tree import DecisionTreeClassifier\n",
    "import pandas as pd"
   ]
  },
  {
   "cell_type": "code",
   "execution_count": 16,
   "metadata": {},
   "outputs": [
    {
     "name": "stderr",
     "output_type": "stream",
     "text": [
      "/Users/jamesbuzaid/opt/anaconda3/lib/python3.7/site-packages/ipykernel_launcher.py:15: UserWarning: DataFrame columns are not unique, some columns will be omitted.\n",
      "  from ipykernel import kernelapp as app\n"
     ]
    }
   ],
   "source": [
    "\"\"\"\n",
    "Goal to train first on 20, then 30, then 40, and so forth and see how accuracy imporves\n",
    "\"\"\"\n",
    "user = 'james'\n",
    "classifier = DecisionTreeClassifier()\n",
    "\n",
    "def parse_user_csv(file_name):\n",
    "    # print('reading csv from ' + file_name)\n",
    "    try:\n",
    "        df = pd.read_csv(file_name, index_col=0, header=None)\n",
    "    except Exception as e:\n",
    "        print(e)\n",
    "        return dict()\n",
    "    d = {}\n",
    "    for k, v in df.T.to_dict('list').items():\n",
    "        d[k] = v[0]\n",
    "    return d\n",
    "\n",
    "curr_prefs = parse_user_csv('users/user_' + user + '.csv')\n",
    "\n",
    "data = pd.read_csv('data.csv')"
   ]
  },
  {
   "cell_type": "code",
   "execution_count": null,
   "metadata": {},
   "outputs": [],
   "source": []
  },
  {
   "cell_type": "code",
   "execution_count": 24,
   "metadata": {},
   "outputs": [
    {
     "data": {
      "text/plain": [
       "960     1\n",
       "2635    1\n",
       "3943    1\n",
       "887    -1\n",
       "1172    1\n",
       "       ..\n",
       "231     1\n",
       "3389    1\n",
       "4173    1\n",
       "2192    1\n",
       "1702    1\n",
       "Length: 190, dtype: int64"
      ]
     },
     "execution_count": 24,
     "metadata": {},
     "output_type": "execute_result"
    }
   ],
   "source": [
    "observed = data.loc[curr_prefs.keys()]\n",
    "pd.Series(curr_prefs)\n",
    "\n",
    "for i in (1, 20, 40, 60, 80, 100):\n",
    "    \n"
   ]
  },
  {
   "cell_type": "code",
   "execution_count": null,
   "metadata": {},
   "outputs": [],
   "source": []
  }
 ],
 "metadata": {
  "interpreter": {
   "hash": "ae180c96355777df31a74c0453c0695d3bc0adc9e353a59e5185e7c7261379f5"
  },
  "kernelspec": {
   "display_name": "Python 3.7.8 64-bit ('base': conda)",
   "language": "python",
   "name": "python3"
  },
  "language_info": {
   "codemirror_mode": {
    "name": "ipython",
    "version": 3
   },
   "file_extension": ".py",
   "mimetype": "text/x-python",
   "name": "python",
   "nbconvert_exporter": "python",
   "pygments_lexer": "ipython3",
   "version": "3.7.8"
  },
  "orig_nbformat": 4
 },
 "nbformat": 4,
 "nbformat_minor": 2
}
