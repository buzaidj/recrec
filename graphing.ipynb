{
 "cells": [
  {
   "cell_type": "code",
   "execution_count": 227,
   "metadata": {},
   "outputs": [],
   "source": [
    "from sklearn.tree import DecisionTreeClassifier\n",
    "from sklearn.ensemble import RandomForestClassifier\n",
    "from sklearn.neighbors import KNeighborsClassifier\n",
    "import pandas as pd\n",
    "import numpy as np\n",
    "from sklearn import preprocessing\n",
    "\n",
    "import matplotlib.pyplot as plt\n",
    "\n",
    "std_scaler = preprocessing.StandardScaler()"
   ]
  },
  {
   "cell_type": "code",
   "execution_count": 228,
   "metadata": {},
   "outputs": [],
   "source": [
    "def cols_with_title_ingr(df):\n",
    "    return [col for col in df.columns if '::' in col]\n",
    "\n",
    "\n",
    "def cols_with_underscores(df):\n",
    "    return [col for col in df.columns if col[0] == '_']\n",
    "\n",
    "\n",
    "def cols_to_drop(df):\n",
    "    return cols_with_underscores(df) + cols_with_title_ingr(df)\n"
   ]
  },
  {
   "cell_type": "code",
   "execution_count": 229,
   "metadata": {},
   "outputs": [
    {
     "name": "stderr",
     "output_type": "stream",
     "text": [
      "/Users/jamesbuzaid/opt/anaconda3/lib/python3.7/site-packages/ipykernel_launcher.py:19: UserWarning: DataFrame columns are not unique, some columns will be omitted.\n"
     ]
    }
   ],
   "source": [
    "\"\"\"\n",
    "Goal to train first on 20, then 30, then 40, and so forth and see how accuracy imporves\n",
    "\"\"\"\n",
    "user = 'james'\n",
    "# classifier = RandomForestClassifier(random_state=0)\n",
    "# classifier = DecisionTreeClassifier(random_state=0)\n",
    "classifier = KNeighborsClassifier()\n",
    "to_normalize = True\n",
    "\n",
    "\n",
    "def parse_user_csv(file_name):\n",
    "    # print('reading csv from ' + file_name)\n",
    "    try:\n",
    "        df = pd.read_csv(file_name, index_col=0, header=None)\n",
    "    except Exception as e:\n",
    "        print(e)\n",
    "        return dict()\n",
    "    d = {}\n",
    "    for k, v in df.T.to_dict('list').items():\n",
    "        d[k] = v[0]\n",
    "    return d\n",
    "\n",
    "curr_prefs = parse_user_csv('users/user_' + user + '.csv')\n",
    "\n",
    "data = pd.read_csv('data.csv')"
   ]
  },
  {
   "cell_type": "code",
   "execution_count": 230,
   "metadata": {},
   "outputs": [],
   "source": [
    "def random_classify(train_y, test_y):\n",
    "    # try to predict test_y randomly\n",
    "    pct_pos = len(np.where(train_y > 0)) / len(train_y)\n",
    "\n",
    "    # how to calculate expected number of correct guesses\n",
    "\n",
    "    expected_correct = 0\n",
    "    for y in test_y:\n",
    "        if y == 1:\n",
    "            expected_correct += pct_pos\n",
    "        else:\n",
    "            expected_correct += (1 - pct_pos)\n",
    "\n",
    "    return expected_correct / len(test_y)"
   ]
  },
  {
   "cell_type": "code",
   "execution_count": 231,
   "metadata": {},
   "outputs": [],
   "source": [
    "def train(train_X, train_y):\n",
    "    \n",
    "    return classifier.fit(train_X, train_y)"
   ]
  },
  {
   "cell_type": "code",
   "execution_count": 232,
   "metadata": {},
   "outputs": [],
   "source": [
    "observed = data.loc[curr_prefs.keys()]\n",
    "ys = pd.Series(curr_prefs)\n",
    "\n",
    "observed = observed.drop(\n",
    "    columns=cols_to_drop(observed)).drop(columns=['website'])\n",
    "\n",
    "\n",
    "accuracy_measurements = {}\n",
    "rand_accuracy = {}"
   ]
  },
  {
   "cell_type": "code",
   "execution_count": 233,
   "metadata": {},
   "outputs": [
    {
     "name": "stdout",
     "output_type": "stream",
     "text": [
      "10     0.60\n",
      "20     0.60\n",
      "40     0.64\n",
      "60     0.60\n",
      "80     0.58\n",
      "100    0.60\n",
      "120    0.46\n",
      "dtype: float64\n"
     ]
    }
   ],
   "source": [
    "idx = 10, 20, 40, 60, 80, 100, 120\n",
    "\n",
    "for i in idx:\n",
    "    train_X = observed.iloc[:i].to_numpy()\n",
    "    train_y = ys.iloc[:i].to_numpy()\n",
    "\n",
    "    test_X = observed.iloc[i:i+50].to_numpy()\n",
    "    test_y = ys.iloc[i:i+50].to_numpy()\n",
    "\n",
    "    if to_normalize:\n",
    "        train_X = std_scaler.fit_transform(train_X)\n",
    "        test_X = std_scaler.transform(test_X)\n",
    "\n",
    "    clf = train(train_X, train_y)\n",
    "    actual_acc = clf.score(test_X, test_y)\n",
    "    expected_random_acc = random_classify(train_y, test_y)\n",
    "\n",
    "    accuracy_measurements[i] = actual_acc\n",
    "    rand_accuracy[i] = expected_random_acc\n",
    "\n",
    "accuracy_measurements = pd.Series(accuracy_measurements)\n",
    "print(accuracy_measurements)\n",
    "rand_accuracy = pd.Series(rand_accuracy)"
   ]
  },
  {
   "cell_type": "code",
   "execution_count": 234,
   "metadata": {},
   "outputs": [
    {
     "data": {
      "image/png": "[encoded data removed]",
      "text/plain": [
       "<Figure size 432x288 with 1 Axes>"
      ]
     },
     "metadata": {
      "needs_background": "light"
     },
     "output_type": "display_data"
    }
   ],
   "source": [
    "fig = plt.figure()\n",
    "ax1 = fig.add_subplot(111)\n",
    "\n",
    "acc = list(accuracy_measurements)\n",
    "rand_acc = list(rand_accuracy)\n",
    "idx = idx \n",
    "\n",
    "ax1.scatter(idx, rand_acc, s = 10, c = 'b', marker= 's', label = 'Random accuracy')\n",
    "ax1.scatter(idx, acc, s=10, c='r', marker=\"o\", label='Model accuracy')\n",
    "plt.legend(loc = 'lower right')\n",
    "plt.show()\n",
    "# fig.savefig('test2png.png', dpi=100)\n"
   ]
  },
  {
   "cell_type": "code",
   "execution_count": null,
   "metadata": {},
   "outputs": [],
   "source": []
  }
 ],
 "metadata": {
  "interpreter": {
   "hash": "ae180c96355777df31a74c0453c0695d3bc0adc9e353a59e5185e7c7261379f5"
  },
  "kernelspec": {
   "display_name": "Python 3.7.8 64-bit ('base': conda)",
   "language": "python",
   "name": "python3"
  },
  "language_info": {
   "codemirror_mode": {
    "name": "ipython",
    "version": 3
   },
   "file_extension": ".py",
   "mimetype": "text/x-python",
   "name": "python",
   "nbconvert_exporter": "python",
   "pygments_lexer": "ipython3",
   "version": "3.7.8"
  },
  "orig_nbformat": 4
 },
 "nbformat": 4,
 "nbformat_minor": 2
}
